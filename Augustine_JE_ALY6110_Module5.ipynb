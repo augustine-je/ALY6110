{
  "cells": [
    {
      "cell_type": "markdown",
      "metadata": {
        "id": "9X20NflMGtHu"
      },
      "source": [
        "# **Boston Housing Data** - *PySpark's MLlib library for Machine Learning*\n"
      ]
    },
    {
      "cell_type": "markdown",
      "metadata": {
        "id": "XMoLSnRWAa1M"
      },
      "source": [
        "### **1. Running PySpark in Google CoLab.**\n",
        "\n",
        "To create the required setup for running PySpark:\n",
        "- **Install Java**: Install Java Development Kit (JDK) version 8, which is required for running Apache Spark\n",
        "- **Install Spark:** Download (`!wget -q`) and extract (`tar xf`) Apache Spark version 3.0.0 with Hadoop version 3.2\n",
        "- **Set Environment Variables:** To make Spark work correctly, you need to set the JAVA_HOME and SPARK_HOME environment variables. JAVA_HOME is set to the path where Java was installed in the previous step, and SPARK_HOME is set to the path where Spark was extracted.\n",
        "- **Install findspark:** '`findspark`' is a Python library that helps locate a Spark installation and makes it easier to work with Spark in a Jupyter notebook or Python script."
      ]
    },
    {
      "cell_type": "code",
      "execution_count": 1,
      "metadata": {
        "id": "RmEFLdlnC2Ko"
      },
      "outputs": [],
      "source": [
        "# install java\n",
        "!apt-get install openjdk-8-jdk-headless -qq > /dev/null\n",
        "\n",
        "# install spark (change the version number if needed)\n",
        "!wget -q https://archive.apache.org/dist/spark/spark-3.0.0/spark-3.0.0-bin-hadoop3.2.tgz\n",
        "\n",
        "# unzip the spark file to the current folder\n",
        "!tar xf spark-3.0.0-bin-hadoop3.2.tgz\n",
        "\n",
        "# set your spark folder to your system path environment.\n",
        "import os\n",
        "os.environ[\"JAVA_HOME\"] = \"/usr/lib/jvm/java-8-openjdk-amd64\"\n",
        "os.environ[\"SPARK_HOME\"] = \"/content/spark-3.0.0-bin-hadoop3.2\"\n",
        "\n",
        "\n",
        "# install findspark using pip\n",
        "!pip install -q findspark"
      ]
    },
    {
      "cell_type": "markdown",
      "metadata": {
        "id": "RavvyXRkEXBe"
      },
      "source": [
        "### **Initialize a Spark Session using PySpark**\n",
        "\n",
        "The SparkSession is the entry point to any Spark functionality in PySpark.\n",
        "\n",
        "Here we create a Spark session named ***'spark'***.\n",
        "\n",
        "The `master(\"local[*]\")` argument specifies that you want to run Spark in local mode, using all available CPU cores (\"*\").\n",
        "\n",
        "`appName(\"BostonHousing\")` sets the application name to \"BostonHousing\". The application name in Apache Spark is a useful metadata attribute that helps in identifying, monitoring, and managing Spark applications, especially in multi-application and cluster environments. It contributes to better organization, debugging, and resource allocation for your Spark jobs.\n",
        "\n",
        "`getOrCreate() `method either creates a new Spark session or retrieves an existing one if it already exists in our Python environment. This is useful to ensure that we don't create multiple Spark sessions in the same application."
      ]
    },
    {
      "cell_type": "code",
      "execution_count": 2,
      "metadata": {
        "id": "dRjaYjoGEl0K"
      },
      "outputs": [],
      "source": [
        "import findspark\n",
        "findspark.init()\n",
        "\n",
        "from pyspark.sql import SparkSession\n",
        "spark = SparkSession.builder.appName(\"BostonHousing\").master(\"local[*]\").getOrCreate()"
      ]
    },
    {
      "cell_type": "code",
      "execution_count": 3,
      "metadata": {
        "colab": {
          "base_uri": "https://localhost:8080/",
          "height": 36
        },
        "id": "xwJdho8xI147",
        "outputId": "bf9a2525-a9be-45c3-d301-1a03fcff6fbe"
      },
      "outputs": [
        {
          "output_type": "execute_result",
          "data": {
            "text/plain": [
              "'3.0.0'"
            ],
            "application/vnd.google.colaboratory.intrinsic+json": {
              "type": "string"
            }
          },
          "metadata": {},
          "execution_count": 3
        }
      ],
      "source": [
        "# Check the version of Apache Spark that we have initialized in our PySpark session\n",
        "spark.version"
      ]
    },
    {
      "cell_type": "markdown",
      "metadata": {
        "id": "rq_ANCxrmHYU"
      },
      "source": [
        "### **Access the underlying SparkContext**\n",
        "\n",
        "A SparkContext is the entry point for Spark functionality in applications, and it represents the connection to a Spark cluster.\n",
        "\n",
        "In the code above we created a SparkSession with the desired application name \"BostonHousing\"and master configuration.\n",
        "\n",
        "Here we access the SparkContext using `spark.sparkContext` and assign it to the variable 'sc'."
      ]
    },
    {
      "cell_type": "code",
      "execution_count": 4,
      "metadata": {
        "colab": {
          "base_uri": "https://localhost:8080/"
        },
        "id": "jCCnIL7mLIjD",
        "outputId": "c7b983c0-af85-4be1-f19d-8b74a7ac033d"
      },
      "outputs": [
        {
          "output_type": "stream",
          "name": "stdout",
          "text": [
            "Application name assigned to the SparkContext 'sc':  BostonHousing \n",
            "\n",
            "Info about sparkContext:  <SparkContext master=local[*] appName=BostonHousing> \n",
            "\n",
            "Spark App Name : BostonHousing\n"
          ]
        }
      ],
      "source": [
        "# Access the underlying SparkContext\n",
        "from pyspark import SparkContext\n",
        "\n",
        "sc = spark.sparkContext\n",
        "print(\"Application name assigned to the SparkContext 'sc': \",sc.appName,\"\\n\")\n",
        "\n",
        "# To get the information about the SparkContext object in PySpark\n",
        "print(\"Info about sparkContext: \", spark.sparkContext,\"\\n\")\n",
        "\n",
        "# To get the Spark application name\n",
        "print(\"Spark App Name : \"+ spark.sparkContext.appName)"
      ]
    },
    {
      "cell_type": "code",
      "execution_count": 5,
      "metadata": {
        "id": "7XJeIrFQQwju"
      },
      "outputs": [],
      "source": [
        "# Import necessary libraries\n",
        "import numpy as np\n",
        "import pandas as pd\n",
        "import seaborn as sns\n",
        "import matplotlib.pyplot as plt\n",
        "\n",
        "from pyspark import SparkConf\n",
        "from pyspark.sql.types import *\n",
        "import pyspark.sql.functions as F\n",
        "from pyspark.sql.functions import udf, col\n",
        "from pyspark.ml.regression import LinearRegression\n",
        "from pyspark.ml.feature import VectorAssembler, StandardScaler, PCA"
      ]
    },
    {
      "cell_type": "markdown",
      "metadata": {
        "id": "ITwpmEg27XV5"
      },
      "source": [
        "### **2. Read the given CSV file**"
      ]
    },
    {
      "cell_type": "code",
      "execution_count": 6,
      "metadata": {
        "colab": {
          "base_uri": "https://localhost:8080/"
        },
        "id": "QJ-k3yxKF6Uu",
        "outputId": "fd17dce8-7258-4c6a-cb29-842a8d12fce7"
      },
      "outputs": [
        {
          "output_type": "stream",
          "name": "stdout",
          "text": [
            "Mounted at /content/drive\n"
          ]
        }
      ],
      "source": [
        "from google.colab import drive\n",
        "drive.mount('/content/drive')"
      ]
    },
    {
      "cell_type": "code",
      "execution_count": 7,
      "metadata": {
        "id": "qlIuZHUGQyoY"
      },
      "outputs": [],
      "source": [
        "# Load Boston Housing dataset\n",
        "df = spark.read.csv(\"/content/drive/MyDrive/Data/BostonHousing.csv\",header=True, inferSchema= True)"
      ]
    },
    {
      "cell_type": "markdown",
      "metadata": {
        "id": "UgQ0uoyh8IoF"
      },
      "source": [
        "### **A glimpse of the dataset**"
      ]
    },
    {
      "cell_type": "code",
      "execution_count": 8,
      "metadata": {
        "colab": {
          "base_uri": "https://localhost:8080/"
        },
        "id": "rrD0_MQyAom3",
        "outputId": "585bd1aa-4bc6-4b63-9b47-618fd40df36b"
      },
      "outputs": [
        {
          "output_type": "stream",
          "name": "stdout",
          "text": [
            "+-------+----+-----+----+-----+-----+----+------+---+---+-------+------+-----+----+\n",
            "|   crim|  zn|indus|chas|  nox|   rm| age|   dis|rad|tax|ptratio|     b|lstat|medv|\n",
            "+-------+----+-----+----+-----+-----+----+------+---+---+-------+------+-----+----+\n",
            "|0.00632|18.0| 2.31|   0|0.538|6.575|65.2|  4.09|  1|296|   15.3| 396.9| 4.98|24.0|\n",
            "|0.02731| 0.0| 7.07|   0|0.469|6.421|78.9|4.9671|  2|242|   17.8| 396.9| 9.14|21.6|\n",
            "|0.02729| 0.0| 7.07|   0|0.469|7.185|61.1|4.9671|  2|242|   17.8|392.83| 4.03|34.7|\n",
            "|0.03237| 0.0| 2.18|   0|0.458|6.998|45.8|6.0622|  3|222|   18.7|394.63| 2.94|33.4|\n",
            "|0.06905| 0.0| 2.18|   0|0.458|7.147|54.2|6.0622|  3|222|   18.7| 396.9| 5.33|36.2|\n",
            "+-------+----+-----+----+-----+-----+----+------+---+---+-------+------+-----+----+\n",
            "only showing top 5 rows\n",
            "\n"
          ]
        }
      ],
      "source": [
        "# A glimpse of the dataset\n",
        "df.show(5)"
      ]
    },
    {
      "cell_type": "markdown",
      "metadata": {
        "id": "eBA5pIXC8baW"
      },
      "source": [
        "### **3. Combine features to a single vector columns using VectorAssembler (all columns other than target column 'medv')**"
      ]
    },
    {
      "cell_type": "code",
      "execution_count": 9,
      "metadata": {
        "colab": {
          "base_uri": "https://localhost:8080/"
        },
        "id": "DYirzo5u8eTn",
        "outputId": "565e2b65-f12a-4dce-df84-52f26ae6bf17"
      },
      "outputs": [
        {
          "output_type": "stream",
          "name": "stdout",
          "text": [
            "+--------------------+----+\n",
            "|            features|medv|\n",
            "+--------------------+----+\n",
            "|[0.00632,18.0,2.3...|24.0|\n",
            "|[0.02731,0.0,7.07...|21.6|\n",
            "|[0.02729,0.0,7.07...|34.7|\n",
            "|[0.03237,0.0,2.18...|33.4|\n",
            "|[0.06905,0.0,2.18...|36.2|\n",
            "|[0.02985,0.0,2.18...|28.7|\n",
            "|[0.08829,12.5,7.8...|22.9|\n",
            "|[0.14455,12.5,7.8...|27.1|\n",
            "|[0.21124,12.5,7.8...|16.5|\n",
            "|[0.17004,12.5,7.8...|18.9|\n",
            "|[0.22489,12.5,7.8...|15.0|\n",
            "|[0.11747,12.5,7.8...|18.9|\n",
            "|[0.09378,12.5,7.8...|21.7|\n",
            "|[0.62976,0.0,8.14...|20.4|\n",
            "|[0.63796,0.0,8.14...|18.2|\n",
            "|[0.62739,0.0,8.14...|19.9|\n",
            "|[1.05393,0.0,8.14...|23.1|\n",
            "|[0.7842,0.0,8.14,...|17.5|\n",
            "|[0.80271,0.0,8.14...|20.2|\n",
            "|[0.7258,0.0,8.14,...|18.2|\n",
            "+--------------------+----+\n",
            "only showing top 20 rows\n",
            "\n"
          ]
        }
      ],
      "source": [
        "from pyspark.ml.feature import VectorAssembler\n",
        "\n",
        "# List of input feature columns (excluding the target column 'medv')\n",
        "input_cols = [col for col in df.columns if col != 'medv']\n",
        "\n",
        "# Initialize the VectorAssembler\n",
        "assembler = VectorAssembler(inputCols=input_cols, outputCol=\"features\")\n",
        "\n",
        "# Use the assembler to transform the DataFrame\n",
        "assembled_df = assembler.transform(df)\n",
        "\n",
        "# Show the resulting DataFrame with the 'features' column\n",
        "assembled_df.select(\"features\", \"medv\").show()"
      ]
    },
    {
      "cell_type": "markdown",
      "metadata": {
        "id": "q9tOAyFd8q3C"
      },
      "source": [
        "### **4. Standardize features for principal component analysis**"
      ]
    },
    {
      "cell_type": "code",
      "execution_count": 10,
      "metadata": {
        "colab": {
          "base_uri": "https://localhost:8080/"
        },
        "id": "LO0_wJWSKzF-",
        "outputId": "8e1a1af1-fd99-492d-d57d-206b5d983f0b"
      },
      "outputs": [
        {
          "output_type": "stream",
          "name": "stdout",
          "text": [
            "+--------------------+--------------------+----+\n",
            "|            features|     scaled_features|medv|\n",
            "+--------------------+--------------------+----+\n",
            "|[0.00632,18.0,2.3...|[-0.4193669292132...|24.0|\n",
            "|[0.02731,0.0,7.07...|[-0.4169266699640...|21.6|\n",
            "|[0.02729,0.0,7.07...|[-0.4169289951277...|34.7|\n",
            "|[0.03237,0.0,2.18...|[-0.4163384035610...|33.4|\n",
            "|[0.06905,0.0,2.18...|[-0.4120740534296...|36.2|\n",
            "|[0.02985,0.0,2.18...|[-0.4166313741807...|28.7|\n",
            "|[0.08829,12.5,7.8...|[-0.4098372459997...|22.9|\n",
            "|[0.14455,12.5,7.8...|[-0.4032965606564...|27.1|\n",
            "|[0.21124,12.5,7.8...|[-0.3955433024705...|16.5|\n",
            "|[0.17004,12.5,7.8...|[-0.4003331395864...|18.9|\n",
            "|[0.22489,12.5,7.8...|[-0.3939563782803...|15.0|\n",
            "|[0.11747,12.5,7.8...|[-0.4064448322365...|18.9|\n",
            "|[0.09378,12.5,7.8...|[-0.4091989885782...|21.7|\n",
            "|[0.62976,0.0,8.14...|[-0.3468869279616...|20.4|\n",
            "|[0.63796,0.0,8.14...|[-0.3459336108657...|18.2|\n",
            "|[0.62739,0.0,8.14...|[-0.3471624598539...|19.9|\n",
            "|[1.05393,0.0,8.14...|[-0.2975736947220...|23.1|\n",
            "|[0.7842,0.0,8.14,...|[-0.3289320142677...|17.5|\n",
            "|[0.80271,0.0,8.14...|[-0.3267800753110...|20.2|\n",
            "|[0.7258,0.0,8.14,...|[-0.3357214921214...|18.2|\n",
            "+--------------------+--------------------+----+\n",
            "only showing top 20 rows\n",
            "\n"
          ]
        }
      ],
      "source": [
        "from pyspark.ml.feature import StandardScaler\n",
        "from pyspark.ml import Pipeline\n",
        "\n",
        "# Specify the input and output columns for the StandardScaler\n",
        "input_col = \"features\"  # Assuming you've already created the 'features' column\n",
        "output_col = \"scaled_features\"  # You can choose any name for the output column\n",
        "\n",
        "# Initialize the StandardScaler\n",
        "scaler = StandardScaler(inputCol=input_col, outputCol=output_col, withStd=True, withMean=True)\n",
        "\n",
        "# Fit the scaler on the DataFrame to compute the statistics\n",
        "scaler_model = scaler.fit(assembled_df)\n",
        "\n",
        "# Transform the DataFrame to add the standardized features\n",
        "scaled_df = scaler_model.transform(assembled_df)\n",
        "\n",
        "# Show the resulting DataFrame with the standardized features\n",
        "scaled_df.select(\"features\", \"scaled_features\", \"medv\").show()"
      ]
    },
    {
      "cell_type": "markdown",
      "metadata": {
        "id": "P-vsLb6j9tsO"
      },
      "source": [
        "### **5. Train model for two principal component analysis**"
      ]
    },
    {
      "cell_type": "code",
      "execution_count": 11,
      "metadata": {
        "colab": {
          "base_uri": "https://localhost:8080/"
        },
        "id": "ovrQLGxo9_fF",
        "outputId": "33c82c2c-d485-4cbd-f642-633562c649ad"
      },
      "outputs": [
        {
          "output_type": "stream",
          "name": "stdout",
          "text": [
            "+--------------------+--------------------+--------------------+----+\n",
            "|            features|     scaled_features|        pca_features|medv|\n",
            "+--------------------+--------------------+--------------------+----+\n",
            "|[0.00632,18.0,2.3...|[-0.4193669292132...|[2.09622303023858...|24.0|\n",
            "|[0.02731,0.0,7.07...|[-0.4169266699640...|[1.45581098944742...|21.6|\n",
            "|[0.02729,0.0,7.07...|[-0.4169289951277...|[2.07254655194818...|34.7|\n",
            "|[0.03237,0.0,2.18...|[-0.4163384035610...|[2.60892175886434...|33.4|\n",
            "|[0.06905,0.0,2.18...|[-0.4120740534296...|[2.45575477193107...|36.2|\n",
            "|[0.02985,0.0,2.18...|[-0.4166313741807...|[2.21266184319277...|28.7|\n",
            "|[0.08829,12.5,7.8...|[-0.4098372459997...|[1.35753765586535...|22.9|\n",
            "|[0.14455,12.5,7.8...|[-0.4032965606564...|[0.84121214171331...|27.1|\n",
            "|[0.21124,12.5,7.8...|[-0.3955433024705...|[0.17975039564828...|16.5|\n",
            "|[0.17004,12.5,7.8...|[-0.4003331395864...|[1.07312213803569...|18.9|\n",
            "|[0.22489,12.5,7.8...|[-0.3939563782803...|[0.90851245271994...|15.0|\n",
            "|[0.11747,12.5,7.8...|[-0.4064448322365...|[1.24242554722226...|18.9|\n",
            "|[0.09378,12.5,7.8...|[-0.4091989885782...|[1.46145104932636...|21.7|\n",
            "|[0.62976,0.0,8.14...|[-0.3468869279616...|[0.73504694572931...|20.4|\n",
            "|[0.63796,0.0,8.14...|[-0.3459336108657...|[0.35966159252452...|18.2|\n",
            "|[0.62739,0.0,8.14...|[-0.3471624598539...|[0.71934719109558...|19.9|\n",
            "|[1.05393,0.0,8.14...|[-0.2975736947220...|[1.09968831837669...|23.1|\n",
            "|[0.7842,0.0,8.14,...|[-0.3289320142677...|[0.15056397483707...|17.5|\n",
            "|[0.80271,0.0,8.14...|[-0.3267800753110...|[0.35022026683799...|20.2|\n",
            "|[0.7258,0.0,8.14,...|[-0.3357214921214...|[0.30330999670974...|18.2|\n",
            "+--------------------+--------------------+--------------------+----+\n",
            "only showing top 20 rows\n",
            "\n"
          ]
        }
      ],
      "source": [
        "from pyspark.ml.feature import PCA\n",
        "\n",
        "# Define the number of principal components (in this case, 2)\n",
        "num_components = 2\n",
        "\n",
        "# Initialize the PCA model\n",
        "pca = PCA(k=num_components, inputCol=\"scaled_features\", outputCol=\"pca_features\")\n",
        "\n",
        "# Fit the PCA model to the standardized data\n",
        "pca_model = pca.fit(scaled_df)\n",
        "\n",
        "# Transform the data to obtain the two principal components\n",
        "pca_result = pca_model.transform(scaled_df)\n",
        "\n",
        "# Show the resulting DataFrame with the PCA features\n",
        "pca_result.select(\"features\", \"scaled_features\", \"pca_features\", \"medv\").show()"
      ]
    },
    {
      "cell_type": "markdown",
      "metadata": {
        "id": "_sYvm941-qS3"
      },
      "source": [
        "\n",
        "### **6. Collect distributed data in numpy array and then convert to pandas dataframe**"
      ]
    },
    {
      "cell_type": "code",
      "execution_count": 12,
      "metadata": {
        "colab": {
          "base_uri": "https://localhost:8080/"
        },
        "id": "szV58406-tvm",
        "outputId": "671ecbbe-4800-4a75-a227-4138361431e8"
      },
      "outputs": [
        {
          "output_type": "stream",
          "name": "stdout",
          "text": [
            "          PC1       PC2\n",
            "0    2.096223  0.772348\n",
            "1    1.455811  0.591400\n",
            "2    2.072547  0.599047\n",
            "3    2.608922 -0.006864\n",
            "4    2.455755  0.097615\n",
            "..        ...       ...\n",
            "501  0.314656  0.723568\n",
            "502  0.110404  0.758557\n",
            "503  0.312052  1.154104\n",
            "504  0.270252  1.040332\n",
            "505  0.125679  0.761225\n",
            "\n",
            "[506 rows x 2 columns]\n"
          ]
        }
      ],
      "source": [
        "import numpy as np\n",
        "import pandas as pd\n",
        "\n",
        "# Extract the \"pca_features\" column from the PySpark DataFrame and collect it as a list of NumPy arrays\n",
        "pca_features = pca_result.select(\"pca_features\").rdd.map(lambda x: x[0]).collect()\n",
        "\n",
        "# Convert the list of NumPy arrays into a single NumPy array\n",
        "pca_array = np.array(pca_features)\n",
        "\n",
        "# Convert the NumPy array to a Pandas DataFrame\n",
        "pca_df = pd.DataFrame(data=pca_array, columns=[f\"PC{i + 1}\" for i in range(pca_array.shape[1])])\n",
        "\n",
        "# Show the Pandas DataFrame\n",
        "print(pca_df)"
      ]
    },
    {
      "cell_type": "markdown",
      "metadata": {
        "id": "A6W6lL82_i1y"
      },
      "source": [
        "### **7. Plot two principal components**"
      ]
    },
    {
      "cell_type": "code",
      "execution_count": 13,
      "metadata": {
        "colab": {
          "base_uri": "https://localhost:8080/",
          "height": 564
        },
        "id": "BKYmAWPc_lRY",
        "outputId": "1dd2ee85-4287-4baa-e845-5c87896ea99a"
      },
      "outputs": [
        {
          "output_type": "display_data",
          "data": {
            "text/plain": [
              "<Figure size 800x600 with 1 Axes>"
            ],
            "image/png": "[encoded data removed]"
          },
          "metadata": {}
        }
      ],
      "source": [
        "import matplotlib.pyplot as plt\n",
        "\n",
        "# Extract the two principal components from the Pandas DataFrame\n",
        "PC1 = pca_df[\"PC1\"]\n",
        "PC2 = pca_df[\"PC2\"]\n",
        "\n",
        "# Create a scatter plot\n",
        "plt.figure(figsize=(8, 6))\n",
        "plt.scatter(PC1, PC2, marker='o', c='blue', s=30, alpha=0.5)\n",
        "plt.xlabel(\"Principal Component 1\")\n",
        "plt.ylabel(\"Principal Component 2\")\n",
        "plt.title(\"PCA - Two Principal Components\")\n",
        "plt.grid(True)\n",
        "\n",
        "# Show the plot\n",
        "plt.show()"
      ]
    },
    {
      "cell_type": "markdown",
      "metadata": {
        "id": "wXo6m2z9C5_z"
      },
      "source": [
        "### **8. Vectorize features and target together for model development**"
      ]
    },
    {
      "cell_type": "code",
      "execution_count": 14,
      "metadata": {
        "colab": {
          "base_uri": "https://localhost:8080/"
        },
        "id": "GB6oJiboYl__",
        "outputId": "fd1bd916-8715-43ea-8026-6b07d2182f5d"
      },
      "outputs": [
        {
          "output_type": "stream",
          "name": "stdout",
          "text": [
            "+--------------------+----+\n",
            "|            features|medv|\n",
            "+--------------------+----+\n",
            "|[0.00632,18.0,2.3...|24.0|\n",
            "|[0.02731,0.0,7.07...|21.6|\n",
            "|[0.02729,0.0,7.07...|34.7|\n",
            "|[0.03237,0.0,2.18...|33.4|\n",
            "|[0.06905,0.0,2.18...|36.2|\n",
            "|[0.02985,0.0,2.18...|28.7|\n",
            "|[0.08829,12.5,7.8...|22.9|\n",
            "|[0.14455,12.5,7.8...|27.1|\n",
            "|[0.21124,12.5,7.8...|16.5|\n",
            "|[0.17004,12.5,7.8...|18.9|\n",
            "|[0.22489,12.5,7.8...|15.0|\n",
            "|[0.11747,12.5,7.8...|18.9|\n",
            "|[0.09378,12.5,7.8...|21.7|\n",
            "|[0.62976,0.0,8.14...|20.4|\n",
            "|[0.63796,0.0,8.14...|18.2|\n",
            "|[0.62739,0.0,8.14...|19.9|\n",
            "|[1.05393,0.0,8.14...|23.1|\n",
            "|[0.7842,0.0,8.14,...|17.5|\n",
            "|[0.80271,0.0,8.14...|20.2|\n",
            "|[0.7258,0.0,8.14,...|18.2|\n",
            "+--------------------+----+\n",
            "only showing top 20 rows\n",
            "\n"
          ]
        }
      ],
      "source": [
        "from typing_extensions import Final\n",
        "# Select the 'features' and 'medv' columns\n",
        "selected_df = assembled_df.select(\"features\", \"medv\")\n",
        "\n",
        "# Show the resulting DataFrame\n",
        "selected_df.show()"
      ]
    },
    {
      "cell_type": "markdown",
      "metadata": {
        "id": "VbO3ZivRDcRz"
      },
      "source": [
        "### **9. Split dataset into training and testing dataset**"
      ]
    },
    {
      "cell_type": "code",
      "execution_count": 15,
      "metadata": {
        "colab": {
          "base_uri": "https://localhost:8080/"
        },
        "id": "dnW2n-RrPyvz",
        "outputId": "c50896bb-4f59-42e3-ca76-7dbfff891202"
      },
      "outputs": [
        {
          "output_type": "stream",
          "name": "stdout",
          "text": [
            "\n",
            " Training set size: 398\n",
            "\n",
            " Testing set size: 108\n"
          ]
        }
      ],
      "source": [
        "# Split the dataset into training and testing sets (e.g., 80% for training and 20% for testing)\n",
        "train_ratio = 0.8\n",
        "test_ratio = 0.2\n",
        "\n",
        "# Use the randomSplit method to create the training and testing DataFrames\n",
        "train_data, test_data = selected_df.randomSplit([train_ratio, test_ratio], seed=7)\n",
        "\n",
        "# Show the sizes of the training and testing sets\n",
        "print(\"\\n Training set size:\", train_data.count())\n",
        "print(\"\\n Testing set size:\", test_data.count())"
      ]
    },
    {
      "cell_type": "markdown",
      "metadata": {
        "id": "TagtiTcrEkdB"
      },
      "source": [
        "\n",
        "### **10. Fit model for linear regression**"
      ]
    },
    {
      "cell_type": "code",
      "execution_count": 16,
      "metadata": {
        "id": "MgcmOcEcEquK"
      },
      "outputs": [],
      "source": [
        "from pyspark.ml.regression import LinearRegression\n",
        "from pyspark.ml.evaluation import RegressionEvaluator\n",
        "\n",
        "# Initialize the Linear Regression model\n",
        "lr = LinearRegression(featuresCol=\"features\", labelCol=\"medv\")\n",
        "\n",
        "# Fit the model to the training data\n",
        "lr_model = lr.fit(train_data)\n",
        "\n",
        "# Make predictions on the train data\n",
        "predictions_train = lr_model.transform(train_data)"
      ]
    },
    {
      "cell_type": "markdown",
      "metadata": {
        "id": "7rn5jpc_E3Wz"
      },
      "source": [
        "### **11. Find out model coefficients and intercept**"
      ]
    },
    {
      "cell_type": "code",
      "execution_count": null,
      "metadata": {
        "colab": {
          "base_uri": "https://localhost:8080/"
        },
        "id": "aFTiKMmuE7UJ",
        "outputId": "7b3b6dfb-d52d-48e2-fceb-966e58dc859f"
      },
      "outputs": [
        {
          "output_type": "stream",
          "name": "stdout",
          "text": [
            "\n",
            " Model Coefficients: [-0.1017, 0.0544, 0.0324, 2.414, -17.9384, 3.4315, 0.0207, -1.3033, 0.3033, -0.0116, -0.9033, 0.0088, -0.6027]\n",
            "\n",
            " Model Intercept: 36.6913\n"
          ]
        }
      ],
      "source": [
        "# Get the coefficients and intercept of the model\n",
        "coefficients = lr_model.coefficients\n",
        "intercept = lr_model.intercept\n",
        "print(\"\\n Model Coefficients:\", [round(coeff, 4) for coeff in coefficients])\n",
        "print(\"\\n Model Intercept:\", round(intercept, 4))"
      ]
    },
    {
      "cell_type": "markdown",
      "metadata": {
        "id": "AgRe_fUj76ER"
      },
      "source": [
        "### **12. Evaluate model for test dataset**"
      ]
    },
    {
      "cell_type": "code",
      "execution_count": 17,
      "metadata": {
        "colab": {
          "base_uri": "https://localhost:8080/"
        },
        "id": "FqgQ4B4mG_9e",
        "outputId": "9dfac0b8-dd34-4392-b8ed-16440eaf9d4d"
      },
      "outputs": [
        {
          "output_type": "stream",
          "name": "stdout",
          "text": [
            "\n",
            " Root Mean Squared Error (RMSE) on the test dataset: 4.342964077749371\n",
            "\n",
            " Mean Squared Error (MSE): 18.86133698062144\n",
            "\n",
            " Mean Absolute Error (MAE): 3.0856919216518883\n",
            "\n",
            " R-squared (R2) Score: 0.7723909660689845\n"
          ]
        }
      ],
      "source": [
        "# Make predictions on the test data\n",
        "predictions = lr_model.transform(test_data)\n",
        "\n",
        "# Evaluate the model using a regression evaluator:\n",
        "\n",
        "# Root Mean Squared Error (RMSE) - measures the average prediction error, with a lower RMSE indicating better model performance.\n",
        "evaluator = RegressionEvaluator(labelCol=\"medv\", predictionCol=\"prediction\", metricName=\"rmse\")\n",
        "rmse = evaluator.evaluate(predictions)\n",
        "print(\"\\n Root Mean Squared Error (RMSE) on the test dataset:\", rmse)\n",
        "\n",
        "# Mean Squared Error (MSE) - measures the average of the squares of the errors or residuals, which are the differences between the predicted values and the actual values (or target values)\n",
        "evaluator = RegressionEvaluator(labelCol=\"medv\", predictionCol=\"prediction\", metricName=\"mse\")\n",
        "mse = evaluator.evaluate(predictions)\n",
        "print(\"\\n Mean Squared Error (MSE):\", mse)\n",
        "\n",
        "# Mean Absolute Error (MAE) - measures the average absolute errors between predicted and actual values.\n",
        "evaluator = RegressionEvaluator(labelCol=\"medv\", predictionCol=\"prediction\", metricName=\"mae\")\n",
        "mae = evaluator.evaluate(predictions)\n",
        "print(\"\\n Mean Absolute Error (MAE):\", mae)\n",
        "\n",
        "# R-squared (R2) - measures the proportion of variance in the target variable that is predictable from the independent variables.\n",
        "evaluator = RegressionEvaluator(labelCol=\"medv\", predictionCol=\"prediction\", metricName=\"r2\")\n",
        "r2 = evaluator.evaluate(predictions)\n",
        "print(\"\\n R-squared (R2) Score:\", r2)"
      ]
    },
    {
      "cell_type": "markdown",
      "metadata": {
        "id": "4Rll3ask8CpD"
      },
      "source": [
        "### **13. Perform further analysis for better interpretation of model results**"
      ]
    },
    {
      "cell_type": "code",
      "execution_count": 23,
      "metadata": {
        "colab": {
          "base_uri": "https://localhost:8080/"
        },
        "id": "Y6SCjOUz8J1f",
        "outputId": "2c3f8784-bd12-46d8-f08b-b987516a208a"
      },
      "outputs": [
        {
          "output_type": "stream",
          "name": "stdout",
          "text": [
            "+----+------------------+\n",
            "|medv|        prediction|\n",
            "+----+------------------+\n",
            "|18.9|20.924999999999997|\n",
            "|31.6| 30.48833333333333|\n",
            "|24.5| 27.12333333333333|\n",
            "|50.0| 45.42666666666666|\n",
            "|23.1|26.527499999999996|\n",
            "|20.1|            22.545|\n",
            "|24.7| 25.61958333333333|\n",
            "|16.5|23.716444444444445|\n",
            "|34.7| 33.20666666666667|\n",
            "|21.6|22.603333333333335|\n",
            "|18.5|20.067500000000003|\n",
            "|22.9|24.037777777777773|\n",
            "|23.5| 26.62666666666667|\n",
            "|27.9|26.859999999999996|\n",
            "|20.7|23.535000000000004|\n",
            "|20.6| 21.79333333333334|\n",
            "|30.3|33.313333333333325|\n",
            "|22.6|24.174444444444443|\n",
            "|11.9|21.180000000000007|\n",
            "|28.2|28.535000000000004|\n",
            "+----+------------------+\n",
            "only showing top 20 rows\n",
            "\n",
            "\n",
            " Root Mean Squared Error (RMSE): 0.8831710409595785\n",
            "\n",
            " Best Number of Trees: 30\n",
            "\n",
            " Best Max Depth: 15\n"
          ]
        }
      ],
      "source": [
        "from pyspark.ml.regression import RandomForestRegressor\n",
        "from pyspark.ml import Pipeline\n",
        "\n",
        "# Define a Random Forest model\n",
        "rf = RandomForestRegressor(featuresCol=\"features\", labelCol=\"medv\")\n",
        "\n",
        "# Create a pipeline\n",
        "pipeline = Pipeline(stages=[rf])\n",
        "pipeline.write().overwrite().save(\"pipeline\")\n",
        "\n",
        "from pyspark.ml.tuning import ParamGridBuilder, CrossValidator\n",
        "\n",
        "pipelineModel = Pipeline.load(\"pipeline\")\n",
        "\n",
        "# Define a parameter grid for hyperparameter tuning\n",
        "paramGrid = ParamGridBuilder() \\\n",
        "    .addGrid(rf.numTrees, [20, 30, 40]) \\\n",
        "    .addGrid(rf.maxDepth, [10, 15, 20]) \\\n",
        "    .build()\n",
        "\n",
        "eval = RegressionEvaluator(labelCol=\"medv\", predictionCol=\"prediction\", metricName=\"rmse\")\n",
        "\n",
        "# Set up cross-validation\n",
        "crossval = CrossValidator(estimator=pipelineModel,\n",
        "                          estimatorParamMaps=paramGrid,\n",
        "                          evaluator=eval,\n",
        "                          numFolds=5)  # The number of folds\n",
        "\n",
        "# Fit the model on the training data\n",
        "cvModel = crossval.fit(train_data)\n",
        "\n",
        "# Make predictions on the test data\n",
        "predictions = cvModel.transform(test_data)\n",
        "\n",
        "predictions.select(\"medv\",\"prediction\").show()\n",
        "\n",
        "# Evaluate the model using a regression evaluator\n",
        "rmse = evaluator.evaluate(predictions)\n",
        "print(\"\\n Root Mean Squared Error (RMSE):\", rmse)\n",
        "\n",
        "# Get the best model\n",
        "bestModel = cvModel.bestModel\n",
        "\n",
        "# Get the best parameters\n",
        "bestNumTrees = bestModel.stages[-1].getNumTrees\n",
        "bestMaxDepth = bestModel.stages[-1].getMaxDepth()\n",
        "print(\"\\n Best Number of Trees:\", bestNumTrees)\n",
        "print(\"\\n Best Max Depth:\", bestMaxDepth)"
      ]
    },
    {
      "cell_type": "markdown",
      "source": [
        "### *In this comparison of linear regression and random forest regression with hyperparameter tuning and cross-validation, it is clear that the random forest model significantly outperforms the linear regression model in terms of predictive accuracy. The Root Mean Squared Error (RMSE) on the test dataset is a widely used metric for assessing the predictive performance of regression models. A lower RMSE indicates a better-fitting model, and in this case, the random forest model achieved a remarkably lower RMSE of 0.8832 compared to the linear regression model's RMSE of 4.3430.*"
      ],
      "metadata": {
        "id": "rqxrJZmuCasD"
      }
    },
    {
      "cell_type": "code",
      "execution_count": 24,
      "metadata": {
        "id": "W5Y4kLQ7LKAC"
      },
      "outputs": [],
      "source": [
        "sc.stop()"
      ]
    },
    {
      "cell_type": "code",
      "execution_count": 25,
      "metadata": {
        "id": "tkrLEkxXPzpa"
      },
      "outputs": [],
      "source": [
        "spark.sparkContext.stop()"
      ]
    }
  ],
  "metadata": {
    "colab": {
      "provenance": []
    },
    "kernelspec": {
      "display_name": "Python 3 (ipykernel)",
      "language": "python",
      "name": "python3"
    },
    "language_info": {
      "codemirror_mode": {
        "name": "ipython",
        "version": 3
      },
      "file_extension": ".py",
      "mimetype": "text/x-python",
      "name": "python",
      "nbconvert_exporter": "python",
      "pygments_lexer": "ipython3",
      "version": "3.9.12"
    }
  },
  "nbformat": 4,
  "nbformat_minor": 0
}